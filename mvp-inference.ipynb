{
 "cells": [
  {
   "cell_type": "code",
   "execution_count": 1,
   "metadata": {},
   "outputs": [],
   "source": [
    "import torch\n",
    "from torchvision import transforms\n",
    "from torch.utils.data import DataLoader\n",
    "import segmentation_models_pytorch as smp\n",
    "import numpy as np\n",
    "import albumentations as A\n",
    "from albumentations.pytorch import ToTensorV2\n",
    "from geonet import tiler, mask, raster, dataset\n",
    "from geonet.visualizations import plotImagePair"
   ]
  },
  {
   "cell_type": "code",
   "execution_count": 2,
   "metadata": {},
   "outputs": [],
   "source": [
    "# add augmentations\n",
    "aug = A.Compose([\n",
    "    #A.Normalize(mean=(0.0095, 0.0087, 0.0078), std=(0.0075, 0.0070, 0.0060)),\n",
    "    A.RandomRotate90(p=0.6),\n",
    "    A.HorizontalFlip(p=0.6),\n",
    "    #ToTensorV2()\n",
    "])"
   ]
  },
  {
   "cell_type": "code",
   "execution_count": 3,
   "metadata": {},
   "outputs": [],
   "source": [
    "def to_tensor(x, **kwargs):\n",
    "    return x.transpose(2, 0, 1).astype('float32')\n",
    "\n",
    "def preprocess_input(x, mean=[0.187, 0.182, 0.139, 0.215], std=[0.015, 0.035, 0.038, 0.067], input_space=\"RGB\", input_range=[0,1], **kwargs):\n",
    "\n",
    "    if input_space == \"BGR\":\n",
    "        x = x[..., ::-1].copy()\n",
    "\n",
    "    if input_range is not None:\n",
    "        if x.max() > 1 and input_range[1] == 1:\n",
    "            x = x / 5000.0\n",
    "\n",
    "    if mean is not None:\n",
    "        mean = np.array(mean)\n",
    "        x = x - mean\n",
    "\n",
    "    if std is not None:\n",
    "        std = np.array(std)\n",
    "        x = x / std\n",
    "\n",
    "    return x\n",
    "\n",
    "\n",
    "def get_inference_preprocessing(preprocessing_fn):\n",
    "    \"\"\"Construct preprocessing transform\n",
    "    \n",
    "    Args:\n",
    "        preprocessing_fn (callbale): data normalization function \n",
    "            (can be specific for each pretrained neural network)\n",
    "    Return:\n",
    "        transform: albumentations.Compose\n",
    "    \n",
    "    \"\"\"\n",
    "    \n",
    "    _transform = [\n",
    "        A.Lambda(image=preprocess_input),\n",
    "        A.Lambda(image=to_tensor)\n",
    "    ]\n",
    "    return A.Compose(_transform)"
   ]
  },
  {
   "cell_type": "code",
   "execution_count": 10,
   "metadata": {},
   "outputs": [],
   "source": [
    "# initialize model\n",
    "ENCODER = 'se_resnext50_32x4d'\n",
    "ENCODER_WEIGHTS = 'imagenet'\n",
    "CLASSES = ['agro']\n",
    "ACTIVATION = 'sigmoid' # could be None for logits or 'softmax2d' for multicalss segmentation\n",
    "DEVICE = 'cuda'\n",
    "\n",
    "# create segmentation model with pretrained encoder\n",
    "model = smp.FPN(\n",
    "    encoder_name=ENCODER, \n",
    "    classes=len(CLASSES), \n",
    "    activation=ACTIVATION,\n",
    "    in_channels=4,\n",
    ")\n",
    "\n",
    "preprocessing_fn = smp.encoders.get_preprocessing_fn(ENCODER, ENCODER_WEIGHTS)"
   ]
  },
  {
   "cell_type": "code",
   "execution_count": 23,
   "metadata": {},
   "outputs": [],
   "source": [
    "agro_model = torch.load(\"./weights/best/agronet_v1.2.2 - 0.7559994951487025.pth\")"
   ]
  },
  {
   "cell_type": "code",
   "execution_count": 6,
   "metadata": {},
   "outputs": [],
   "source": [
    "forest_model = torch.load(\"./weights/best/forestnet_v1.0 - 0.6568768178222868.pth\")"
   ]
  },
  {
   "cell_type": "code",
   "execution_count": 36,
   "metadata": {},
   "outputs": [],
   "source": [
    "img = raster.get_array_from_tiff(\"../../data/_mvp/vrn_train_3857.tif\")\n",
    "img = np.dstack(img)\n",
    "mask = raster.get_array_from_tiff(\"../../data/_mvp/vrn_3857_mask.tif\")[0]"
   ]
  },
  {
   "cell_type": "code",
   "execution_count": 37,
   "metadata": {},
   "outputs": [
    {
     "name": "stderr",
     "output_type": "stream",
     "text": [
      "/home/DVL/glotovaa/projects/data_science/lib/python3.6/site-packages/albumentations/augmentations/transforms.py:2908: UserWarning: Using lambda is incompatible with multiprocessing. Consider using regular functions or partial().\n",
      "  \"Using lambda is incompatible with multiprocessing. \"\n"
     ]
    }
   ],
   "source": [
    "#forestData = dataset.RasterDataset(img, mask, classes=['agro'], tile_size=1024, step=768, preprocessing=get_inference_preprocessing(preprocessing_fn))\n",
    "agroData = dataset.RasterDataset(img, mask, classes=['agro'], step=384, preprocessing=get_inference_preprocessing(preprocessing_fn))"
   ]
  },
  {
   "cell_type": "code",
   "execution_count": 38,
   "metadata": {},
   "outputs": [],
   "source": [
    "agro_loader = DataLoader(agroData, batch_size=1, shuffle=False, num_workers=2)\n",
    "#forest_loader = DataLoader(forestData, batch_size=1, shuffle=False, num_workers=2)"
   ]
  },
  {
   "cell_type": "code",
   "execution_count": 28,
   "metadata": {},
   "outputs": [],
   "source": [
    "def cnn_predict(model, img, test_loader):\n",
    "    ext_x = np.zeros(shape=(img.shape[0], img.shape[1]), dtype=np.float32)\n",
    "    step = 384\n",
    "    tile_size = 512\n",
    "    xc = round(img.shape[0] / step) + 1\n",
    "    yc = round(img.shape[1] / step) + 1\n",
    "\n",
    "    i = 0\n",
    "    for batch in test_loader:\n",
    "        m = i % xc\n",
    "        j = i // xc\n",
    "        #x_tensor = torch.from_numpy(batch[0]).unsqueeze(0)\n",
    "        pr_mask = model.predict(batch[0].cuda())\n",
    "        pr_mask = (pr_mask.cpu().numpy().round(decimals=2))\n",
    "\n",
    "            \n",
    "        if (step*m+tile_size) > img.shape[0]:\n",
    "            if (step*j+tile_size) > img.shape[1]:\n",
    "                ext_x[(img.shape[0]-tile_size):img.shape[0], (img.shape[1]-tile_size):img.shape[1]] = np.maximum(ext_x[(img.shape[0]-tile_size):img.shape[0], (img.shape[1]-tile_size):img.shape[1]], pr_mask)\n",
    "            else:\n",
    "                ext_x[(img.shape[0]-tile_size):img.shape[0], step*j:(step*j+tile_size)] = np.maximum(ext_x[(img.shape[0]-tile_size):img.shape[0], step*j:(step*j+tile_size)], pr_mask)\n",
    "        elif (step*j+tile_size) > img.shape[1]:\n",
    "            ext_x[step*m:(step*m+tile_size), (img.shape[1]-tile_size):img.shape[1]] = np.maximum(ext_x[step*m:(step*m+tile_size), (img.shape[1]-tile_size):img.shape[1]], pr_mask)\n",
    "        else:\n",
    "            ext_x[step*m:(step*m+tile_size), step*j:(step*j+tile_size)] = np.maximum(ext_x[step*m:(step*m+tile_size), step*j:(step*j+tile_size)], pr_mask)\n",
    "    \n",
    "        i += 1\n",
    "    \n",
    "    return ext_x"
   ]
  },
  {
   "cell_type": "code",
   "execution_count": 14,
   "metadata": {},
   "outputs": [],
   "source": [
    "def complex_predict(img):\n",
    "    forest_model = torch.load('../geonet/weights/forestnet_v1.0 - 0.6568768178222868.pth')\n",
    "    image = raster.get_array_from_tiff(img)\n",
    "    cnn_img = np.dstack(image)\n",
    "    testData = dataset.RasterDataset(cnn_img.astype(float), cnn_img[0].astype(float), classes=['agro'], tile_size=1024, step=768, preprocessing=get_inference_preprocessing(preprocessing_fn))\n",
    "    test_loader = DataLoader(testData, batch_size=1, shuffle=False, num_workers=1)\n",
    "    gbm = lgb.Booster(model_file=\"../../data_science/geonet/weights/forest_gbm_v0.1.2.txt\")\n",
    "    cnn_pred = cnn_predict(forest_model, cnn_img, test_loader)\n",
    "    gbm_pred = gbm.predict(flatten_file(img))\n",
    "    gbm_pred = np.reshape(gbm_pred, image[0].shape)\n",
    "    preds = np.maximum(cnn_pred, gbm_pred)\n",
    "    return preds"
   ]
  },
  {
   "cell_type": "code",
   "execution_count": 39,
   "metadata": {},
   "outputs": [],
   "source": [
    "data = np.dstack(raster.get_array_from_tiff(\"../../data/_mvp/vrn_train_3857.tif\"))\n",
    "ext_x = cnn_predict(agro_model, data, agro_loader)"
   ]
  },
  {
   "cell_type": "code",
   "execution_count": 40,
   "metadata": {},
   "outputs": [],
   "source": [
    "raster.get_raster_from_array(ext_x, \"../mvp/vrn_agro_predicted_fin.tif\", \"../../data/_mvp/vrn_train_3857.tif\")"
   ]
  },
  {
   "cell_type": "code",
   "execution_count": null,
   "metadata": {},
   "outputs": [],
   "source": []
  }
 ],
 "metadata": {
  "kernelspec": {
   "display_name": "Python 3",
   "language": "python",
   "name": "python3"
  },
  "language_info": {
   "codemirror_mode": {
    "name": "ipython",
    "version": 3
   },
   "file_extension": ".py",
   "mimetype": "text/x-python",
   "name": "python",
   "nbconvert_exporter": "python",
   "pygments_lexer": "ipython3",
   "version": "3.6.8"
  }
 },
 "nbformat": 4,
 "nbformat_minor": 4
}
